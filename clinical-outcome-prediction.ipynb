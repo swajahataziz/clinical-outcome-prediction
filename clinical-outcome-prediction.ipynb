{
 "cells": [
  {
   "cell_type": "markdown",
   "id": "b8aae783",
   "metadata": {},
   "source": [
    "# Clinical Outcome Prediction from Admission Notes\n",
    "## Model training"
   ]
  },
  {
   "cell_type": "markdown",
   "id": "2068ac5f",
   "metadata": {},
   "source": [
    "This repository contains source code for the task creation and experiments from our paper [Clinical Outcome Prediction from Admission Notes using Self-Supervised Knowledge Integration](https://arxiv.org/abs/2102.04110), to appear at EACL 2021."
   ]
  },
  {
   "cell_type": "markdown",
   "id": "bf438303",
   "metadata": {},
   "source": [
    "## Install Required Dependencies"
   ]
  },
  {
   "cell_type": "code",
   "execution_count": 3,
   "id": "a6a118e1",
   "metadata": {},
   "outputs": [],
   "source": [
    "!pip install tqdm -q\n",
    "# !pip install -U sagemaker -q"
   ]
  },
  {
   "cell_type": "code",
   "execution_count": 4,
   "id": "972af59c",
   "metadata": {},
   "outputs": [
    {
     "name": "stderr",
     "output_type": "stream",
     "text": [
      "[nltk_data] Downloading package stopwords to\n",
      "[nltk_data]     /home/ec2-user/nltk_data...\n",
      "[nltk_data]   Unzipping corpora/stopwords.zip.\n"
     ]
    },
    {
     "data": {
      "text/plain": [
       "True"
      ]
     },
     "execution_count": 4,
     "metadata": {},
     "output_type": "execute_result"
    }
   ],
   "source": [
    "import nltk\n",
    "nltk.download('stopwords')"
   ]
  },
  {
   "cell_type": "markdown",
   "id": "c5a8438c",
   "metadata": {},
   "source": [
    "## Prepare data"
   ]
  },
  {
   "cell_type": "code",
   "execution_count": 5,
   "id": "93826162",
   "metadata": {},
   "outputs": [],
   "source": [
    "import boto3\n",
    "import logging\n",
    "import io\n",
    "import os\n",
    "import tarfile\n",
    "from pathlib import Path\n",
    "from tqdm import tqdm\n",
    "from botocore.client import Config"
   ]
  },
  {
   "cell_type": "code",
   "execution_count": 6,
   "id": "d417e3ad",
   "metadata": {},
   "outputs": [],
   "source": [
    "DATA_DIR = \"data\"\n",
    "BUCKET = 'mimic-data-for-demo'\n",
    "MIMIC = 'mimic-iii-physionet'\n",
    "MIMIC_DIR = os.path.join(DATA_DIR,MIMIC)\n",
    "TAR_FILE = 'mimic3minimal.tar.gz'\n",
    "DIR_TO_SAVE_DATA = 'export'"
   ]
  },
  {
   "cell_type": "code",
   "execution_count": 7,
   "id": "5b2991ab",
   "metadata": {},
   "outputs": [],
   "source": [
    "Path(DATA_DIR).mkdir(parents=True,exist_ok=True)\n",
    "s3 = boto3.client('s3')"
   ]
  },
  {
   "cell_type": "markdown",
   "id": "b99376c3",
   "metadata": {},
   "source": [
    "### Download data => *optional*"
   ]
  },
  {
   "cell_type": "code",
   "execution_count": 8,
   "id": "154759e1",
   "metadata": {},
   "outputs": [
    {
     "name": "stdout",
     "output_type": "stream",
     "text": [
      "file already exists\n"
     ]
    }
   ],
   "source": [
    "if not Path(f'{DATA_DIR}/{TAR_FILE}').exists():\n",
    "    s3.download_file(BUCKET, TAR_FILE, f\"{DATA_DIR}/{TAR_FILE}\")\n",
    "else:\n",
    "    print('file already exists')"
   ]
  },
  {
   "cell_type": "markdown",
   "id": "fa30c84e",
   "metadata": {},
   "source": [
    "### Extract tar.gz and sync with s3 => *optional*"
   ]
  },
  {
   "cell_type": "code",
   "execution_count": 12,
   "id": "f4e0a7e9",
   "metadata": {},
   "outputs": [],
   "source": [
    "tar = tarfile.open(name=f'{DATA_DIR}/{TAR_FILE}')\n",
    "tar.extractall(f'{DATA_DIR}')\n",
    "tar.close()"
   ]
  },
  {
   "cell_type": "code",
   "execution_count": 28,
   "id": "a0c7bda7",
   "metadata": {},
   "outputs": [
    {
     "name": "stdout",
     "output_type": "stream",
     "text": [
      "data/User/Desktop/file.txt\n"
     ]
    }
   ],
   "source": [
    "# !aws s3 sync {DATA_DIR}/{MIMIC_DIR}/ s3://{BUCKET}/unzipped/\n",
    "path = 'data'\n",
    "print(os.path.join(path, \"User/Desktop\", \"file.txt\"))"
   ]
  },
  {
   "cell_type": "code",
   "execution_count": 29,
   "id": "1ab3607e",
   "metadata": {},
   "outputs": [],
   "source": [
    "# Create path to task data\n",
    "os.makedirs(path+'/train', exist_ok=True)"
   ]
  },
  {
   "cell_type": "markdown",
   "id": "29f3fbe9",
   "metadata": {},
   "source": [
    "### Create a Task Dictionary"
   ]
  },
  {
   "cell_type": "code",
   "execution_count": 9,
   "id": "b7a298df",
   "metadata": {},
   "outputs": [],
   "source": [
    "tasks = {\n",
    "    \"mortality-prediction\": {\n",
    "        'path_to_script': 'tasks/mp/mp.py', \n",
    "        'task_name': 'MP_IN',\n",
    "        'config_file': 'configs/example_config_mp.yaml'\n",
    "    },\n",
    "    \"length-of-stay\": {\n",
    "        'path_to_script': 'tasks/los/los.py', \n",
    "        'task_name': 'LOS_WEEKS',\n",
    "        'config_file': 'configs/example_config_los.yaml'\n",
    "    },\n",
    "    \"diagnoses-3-digits\": {\n",
    "        'path_to_script': 'tasks/dia/dia.py', \n",
    "        'task_name': 'DIA_GROUPS_3_DIGITS',\n",
    "        'config_file': 'configs/example_config_dia_3.yaml'\n",
    "    },\n",
    "    \"diagnoses-plus-icd-hierarchy\": {\n",
    "        'path_to_script': 'tasks/dia/dia_plus.py', \n",
    "        'task_name': 'DIA_PLUS',\n",
    "        'config_file': 'configs/example_config_dia_plus.yaml'\n",
    "    },\n",
    "    \"procedures-3-digits\": {\n",
    "        'path_to_script': 'tasks/pro/pro.py', \n",
    "        'task_name': 'PRO_GROUPS_3_DIGITS',\n",
    "        'config_file': 'configs/example_config_pro_3.yaml'\n",
    "    },\n",
    "    \"procedures-plus-icd-hierarchy\": {\n",
    "        'path_to_script': 'tasks/pro/pro_plus.py', \n",
    "        'task_name': 'PRO_PLUS',\n",
    "        'config_file': 'configs/example_config_pro_plus.yaml'\n",
    "    },\n",
    "}"
   ]
  },
  {
   "cell_type": "markdown",
   "id": "ac8c610c",
   "metadata": {},
   "source": [
    "### Create training and validation datasets using SageMaker Processing"
   ]
  },
  {
   "cell_type": "markdown",
   "id": "e9724559",
   "metadata": {},
   "source": [
    "#### Start a new SM session and initiate SKLearnProcessor\n",
    "While initiating SKlearnProcessor, we will specify the following:\n",
    "* framework version\n",
    "* instance type\n",
    "* instance count"
   ]
  },
  {
   "cell_type": "code",
   "execution_count": 15,
   "id": "e84d48f4",
   "metadata": {},
   "outputs": [],
   "source": [
    "import boto3\n",
    "from sagemaker import get_execution_role\n",
    "from sagemaker.sklearn.processing import SKLearnProcessor\n",
    "\n",
    "region = boto3.session.Session().region_name\n",
    "\n",
    "role = get_execution_role()\n",
    "sklearn_processor = SKLearnProcessor(base_job_name='clinical-outcome-processing',\n",
    "                                     framework_version='0.20.0',\n",
    "                                     role=role,\n",
    "                                     instance_type='ml.m5.2xlarge',\n",
    "                                     instance_count=1)"
   ]
  },
  {
   "cell_type": "markdown",
   "id": "50af6120",
   "metadata": {},
   "source": [
    "### Prepare Data for Mortality Prediction"
   ]
  },
  {
   "cell_type": "code",
   "execution_count": 36,
   "id": "fbe1c6a6",
   "metadata": {},
   "outputs": [],
   "source": [
    "selected_task = \"mortality-prediction\"\n",
    "processing_script = tasks[selected_task]['path_to_script']"
   ]
  },
  {
   "cell_type": "markdown",
   "id": "217b0229",
   "metadata": {},
   "source": [
    "#### Specify bucket to be used for staging data"
   ]
  },
  {
   "cell_type": "code",
   "execution_count": 11,
   "id": "4fe43e12",
   "metadata": {},
   "outputs": [],
   "source": [
    "bucket = 'mimic-data-for-demo'\n",
    "prefix = 'unzipped'"
   ]
  },
  {
   "cell_type": "markdown",
   "id": "98341dc3",
   "metadata": {},
   "source": [
    "The processing job will require the following parameters:\n",
    "- `ProcessingInput`: A ProcessingInput object specifying the S3 bucket an prefix to source the data from\n",
    "- `ProcessingOutput`: A ProcessingOutput object specifying the S3 bucket an prefix to source the data from\n",
    "\n",
    "Arguments:\n",
    "- `admission_only`: Filter parts of Discharge Summary that are not known at Admission. `True` => Create simulated Admission Notes, `False` => Keep complete Discharge Summaries"
   ]
  },
  {
   "cell_type": "code",
   "execution_count": 30,
   "id": "96ddf04b",
   "metadata": {},
   "outputs": [
    {
     "name": "stdout",
     "output_type": "stream",
     "text": [
      "\n",
      "Job Name:  clinical-outcome-processing-2021-05-07-01-23-37-567\n",
      "Inputs:  [{'InputName': 'input-1', 'AppManaged': False, 'S3Input': {'S3Uri': 's3://mimic-data-for-demo/unzipped', 'LocalPath': '/opt/ml/processing/input', 'S3DataType': 'S3Prefix', 'S3InputMode': 'File', 'S3DataDistributionType': 'FullyReplicated', 'S3CompressionType': 'None'}}, {'InputName': 'code', 'AppManaged': False, 'S3Input': {'S3Uri': 's3://sagemaker-eu-west-2-468574038824/clinical-outcome-processing-2021-05-07-01-23-37-567/input/code/mp.py', 'LocalPath': '/opt/ml/processing/input/code', 'S3DataType': 'S3Prefix', 'S3InputMode': 'File', 'S3DataDistributionType': 'FullyReplicated', 'S3CompressionType': 'None'}}]\n",
      "Outputs:  [{'OutputName': 'processed', 'AppManaged': False, 'S3Output': {'S3Uri': 's3://mimic-data-for-demo/processed', 'LocalPath': '/opt/ml/processing/output', 'S3UploadMode': 'EndOfJob'}}]\n",
      "...........................................................................\u001b[34msys:1: DtypeWarning: Columns (4,5) have mixed types. Specify dtype option on import or set low_memory=False.\u001b[0m\n",
      "\u001b[34m/opt/ml/processing/input/code/mp.py:152: SettingWithCopyWarning: \u001b[0m\n",
      "\u001b[34mA value is trying to be set on a copy of a slice from a DataFrame.\u001b[0m\n",
      "\u001b[34mTry using .loc[row_indexer,col_indexer] = value instead\n",
      "\u001b[0m\n",
      "\u001b[34mSee the caveats in the documentation: http://pandas.pydata.org/pandas-docs/stable/user_guide/indexing.html#returning-a-view-versus-a-copy\n",
      "  notes_df[notes_df[key].str.startswith(\"[]\")][key] = \"\"\u001b[0m\n",
      "\n"
     ]
    }
   ],
   "source": [
    "from sagemaker.processing import ProcessingInput, ProcessingOutput\n",
    "\n",
    "sklearn_processor.run(code=processing_script,\n",
    "                      inputs=[ProcessingInput(\n",
    "                        source='s3://'+bucket+'/'+ prefix,\n",
    "                        destination='/opt/ml/processing/input')],\n",
    "                      outputs=[ProcessingOutput(output_name='processed',\n",
    "                                                source='/opt/ml/processing/output',\n",
    "                                               destination='s3://'+bucket+'/processed')],\n",
    "                      arguments=['--admission-only', 'True']\n",
    "                     )"
   ]
  },
  {
   "cell_type": "code",
   "execution_count": 34,
   "id": "3d6c5816",
   "metadata": {},
   "outputs": [],
   "source": [
    "preprocessing_job_description = sklearn_processor.jobs[-1].describe()\n",
    "\n",
    "output_config = preprocessing_job_description['ProcessingOutputConfig']\n",
    "for output in output_config['Outputs']:\n",
    "    if output['OutputName'] == 'processed':\n",
    "        preprocessed_training_data = output['S3Output']['S3Uri']"
   ]
  },
  {
   "cell_type": "markdown",
   "id": "4dd9b711",
   "metadata": {},
   "source": [
    "### Prepare data for Length of Stay"
   ]
  },
  {
   "cell_type": "code",
   "execution_count": 12,
   "id": "cf0f72f1",
   "metadata": {},
   "outputs": [],
   "source": [
    "selected_task = \"length-of-stay\"\n",
    "processing_script = tasks[selected_task]['path_to_script']"
   ]
  },
  {
   "cell_type": "code",
   "execution_count": null,
   "id": "d51b2782",
   "metadata": {},
   "outputs": [
    {
     "name": "stdout",
     "output_type": "stream",
     "text": [
      "\n",
      "Job Name:  clinical-outcome-processing-2021-05-11-17-57-11-573\n",
      "Inputs:  [{'InputName': 'input-1', 'AppManaged': False, 'S3Input': {'S3Uri': 's3://mimic-data-for-demo/unzipped', 'LocalPath': '/opt/ml/processing/input', 'S3DataType': 'S3Prefix', 'S3InputMode': 'File', 'S3DataDistributionType': 'FullyReplicated', 'S3CompressionType': 'None'}}, {'InputName': 'code', 'AppManaged': False, 'S3Input': {'S3Uri': 's3://sagemaker-eu-west-2-468574038824/clinical-outcome-processing-2021-05-11-17-57-11-573/input/code/los.py', 'LocalPath': '/opt/ml/processing/input/code', 'S3DataType': 'S3Prefix', 'S3InputMode': 'File', 'S3DataDistributionType': 'FullyReplicated', 'S3CompressionType': 'None'}}]\n",
      "Outputs:  [{'OutputName': 'processed', 'AppManaged': False, 'S3Output': {'S3Uri': 's3://mimic-data-for-demo/processed', 'LocalPath': '/opt/ml/processing/output', 'S3UploadMode': 'EndOfJob'}}]\n",
      "................"
     ]
    }
   ],
   "source": [
    "from sagemaker.processing import ProcessingInput, ProcessingOutput\n",
    "\n",
    "sklearn_processor.run(code=processing_script,\n",
    "                      inputs=[ProcessingInput(\n",
    "                        source='s3://'+bucket+'/'+ prefix,\n",
    "                        destination='/opt/ml/processing/input')],\n",
    "                      outputs=[ProcessingOutput(output_name='processed',\n",
    "                                                source='/opt/ml/processing/output',\n",
    "                                               destination='s3://'+bucket+'/processed')],\n",
    "                      arguments=['--admission-only', 'True']\n",
    "                     )"
   ]
  },
  {
   "cell_type": "markdown",
   "id": "2da232d8",
   "metadata": {},
   "source": [
    "### Prepare Data for Procedure (3 Digits)"
   ]
  },
  {
   "cell_type": "code",
   "execution_count": 20,
   "id": "1f8ccec9",
   "metadata": {},
   "outputs": [],
   "source": [
    "selected_task = \"procedures-3-digits\"\n",
    "processing_script = tasks[selected_task]['path_to_script']"
   ]
  },
  {
   "cell_type": "code",
   "execution_count": 26,
   "id": "ea1c7824",
   "metadata": {},
   "outputs": [
    {
     "name": "stdout",
     "output_type": "stream",
     "text": [
      "\n",
      "Job Name:  clinical-outcome-processing-2021-05-17-11-02-18-763\n",
      "Inputs:  [{'InputName': 'input-1', 'AppManaged': False, 'S3Input': {'S3Uri': 's3://mimic-data-for-demo/unzipped', 'LocalPath': '/opt/ml/processing/input', 'S3DataType': 'S3Prefix', 'S3InputMode': 'File', 'S3DataDistributionType': 'FullyReplicated', 'S3CompressionType': 'None'}}, {'InputName': 'code', 'AppManaged': False, 'S3Input': {'S3Uri': 's3://sagemaker-eu-west-2-468574038824/clinical-outcome-processing-2021-05-17-11-02-18-763/input/code/pro.py', 'LocalPath': '/opt/ml/processing/input/code', 'S3DataType': 'S3Prefix', 'S3InputMode': 'File', 'S3DataDistributionType': 'FullyReplicated', 'S3CompressionType': 'None'}}]\n",
      "Outputs:  [{'OutputName': 'processed', 'AppManaged': False, 'S3Output': {'S3Uri': 's3://mimic-data-for-demo/processed', 'LocalPath': '/opt/ml/processing/output', 'S3UploadMode': 'EndOfJob'}}]\n",
      ".............................................................................\u001b[34msys:1: DtypeWarning: Columns (4,5) have mixed types. Specify dtype option on import or set low_memory=False.\u001b[0m\n",
      "\u001b[34m/opt/ml/processing/input/code/pro.py:186: SettingWithCopyWarning: \u001b[0m\n",
      "\u001b[34mA value is trying to be set on a copy of a slice from a DataFrame.\u001b[0m\n",
      "\u001b[34mTry using .loc[row_indexer,col_indexer] = value instead\n",
      "\u001b[0m\n",
      "\u001b[34mSee the caveats in the documentation: http://pandas.pydata.org/pandas-docs/stable/user_guide/indexing.html#returning-a-view-versus-a-copy\n",
      "  notes_df[notes_df[key].str.startswith(\"[]\")][key] = \"\"\u001b[0m\n",
      "\n"
     ]
    }
   ],
   "source": [
    "from sagemaker.processing import ProcessingInput, ProcessingOutput\n",
    "\n",
    "sklearn_processor.run(code=processing_script,\n",
    "                      inputs=[ProcessingInput(\n",
    "                        source='s3://'+bucket+'/'+ prefix,\n",
    "                        destination='/opt/ml/processing/input')],\n",
    "                      outputs=[ProcessingOutput(output_name='processed',\n",
    "                                                source='/opt/ml/processing/output',\n",
    "                                               destination='s3://'+bucket+'/processed')],\n",
    "                      arguments=['--admission-only', 'True']\n",
    "                     )"
   ]
  },
  {
   "cell_type": "markdown",
   "id": "9ac46c5a",
   "metadata": {},
   "source": [
    "## Sagemaker Training Job"
   ]
  },
  {
   "cell_type": "markdown",
   "id": "27bd8165",
   "metadata": {},
   "source": [
    "### Configuration"
   ]
  },
  {
   "cell_type": "code",
   "execution_count": 27,
   "id": "935d496d",
   "metadata": {},
   "outputs": [],
   "source": [
    "import sagemaker as sage\n",
    "from time import gmtime, strftime\n",
    "\n",
    "sess = sage.Session()"
   ]
  },
  {
   "cell_type": "code",
   "execution_count": 28,
   "id": "5dd789ea",
   "metadata": {},
   "outputs": [],
   "source": [
    "bucket = 'mimic-data-for-demo'\n",
    "prefix = 'processed'"
   ]
  },
  {
   "cell_type": "code",
   "execution_count": 30,
   "id": "cad1f710",
   "metadata": {},
   "outputs": [],
   "source": [
    "train_config = sage.inputs.TrainingInput(f's3://{bucket}/{prefix}', content_type='text/csv')\n",
    "val_config = sage.inputs.TrainingInput(f's3://{bucket}/{prefix}/val/', content_type='text/csv')\n",
    "test_config = sage.inputs.TrainingInput(f's3://{bucket}/{prefix}/test/', content_type='text/csv')"
   ]
  },
  {
   "cell_type": "code",
   "execution_count": 31,
   "id": "cce6da10",
   "metadata": {},
   "outputs": [],
   "source": [
    "hyperparameters = {\n",
    "    'task_config': tasks[selected_task]['config_file'],\n",
    "    'model_name_or_path': \"distilbert-base-uncased\",\n",
    "    'cache_dir': \"cache_dir\",\n",
    "    'epochs': 200,\n",
    "    'batch_size': 5,\n",
    "}"
   ]
  },
  {
   "cell_type": "code",
   "execution_count": 48,
   "id": "33704e2b",
   "metadata": {},
   "outputs": [
    {
     "name": "stdout",
     "output_type": "stream",
     "text": [
      "Instance type = ml.p3.8xlarge\n"
     ]
    }
   ],
   "source": [
    "import os, subprocess\n",
    "\n",
    "# instance_type = 'local'\n",
    "instance_type = 'ml.p3.8xlarge'\n",
    "instance_count = 1\n",
    "\n",
    "if instance_type is 'local' and subprocess.call('nvidia-smi') == 0:\n",
    "    ## Set type to GPU if one is present\n",
    "    instance_type = 'local_gpu'\n",
    "    \n",
    "print(\"Instance type = \" + instance_type)"
   ]
  },
  {
   "cell_type": "code",
   "execution_count": 49,
   "id": "87a71d20",
   "metadata": {},
   "outputs": [],
   "source": [
    "account = sess.boto_session.client('sts').get_caller_identity()['Account']\n",
    "region = sess.boto_session.region_name\n",
    "\n",
    "from sagemaker.pytorch import PyTorch\n",
    "\n",
    "estimator = PyTorch(\n",
    "    entry_point='doc_classification.py',\n",
    "    source_dir='./experiments',\n",
    "    role=role,\n",
    "    instance_type=instance_type,\n",
    "    instance_count=instance_count,\n",
    "    base_job_name=f'clinical-prediction-{selected_task}',\n",
    "    framework_version='1.8.0',\n",
    "    py_version='py36',\n",
    "    hyperparameters=hyperparameters)"
   ]
  },
  {
   "cell_type": "code",
   "execution_count": 50,
   "id": "7ecfd066",
   "metadata": {},
   "outputs": [],
   "source": [
    "estimator.fit({'train': train_config, 'val': val_config, 'test': test_config}, wait=False)"
   ]
  },
  {
   "cell_type": "code",
   "execution_count": 202,
   "id": "8af75917",
   "metadata": {},
   "outputs": [
    {
     "name": "stdout",
     "output_type": "stream",
     "text": [
      "sagemaker role arn: arn:aws:iam::468574038824:role/service-role/AmazonSageMaker-ExecutionRole-20210421T150707\n",
      "sagemaker bucket: sagemaker-eu-west-2-468574038824\n",
      "sagemaker session region: eu-west-2\n"
     ]
    }
   ],
   "source": [
    "import sagemaker, uuid\n",
    "\n",
    "sess = sagemaker.Session()\n",
    "# sagemaker session bucket -> used for uploading data, models and logs\n",
    "# sagemaker will automatically create this bucket if it not exists\n",
    "sagemaker_session_bucket=None\n",
    "if sagemaker_session_bucket is None and sess is not None:\n",
    "    # set to default bucket if a bucket name is not given\n",
    "    sagemaker_session_bucket = sess.default_bucket()\n",
    "\n",
    "role = sagemaker.get_execution_role()\n",
    "sess = sagemaker.Session(default_bucket=sagemaker_session_bucket)\n",
    "\n",
    "print(f\"sagemaker role arn: {role}\")\n",
    "print(f\"sagemaker bucket: {sess.default_bucket()}\")\n",
    "print(f\"sagemaker session region: {sess.boto_region_name}\")"
   ]
  },
  {
   "cell_type": "markdown",
   "id": "ac437eba",
   "metadata": {},
   "source": [
    "### Checkpointing"
   ]
  },
  {
   "cell_type": "code",
   "execution_count": 203,
   "id": "9ccf97ff",
   "metadata": {},
   "outputs": [
    {
     "name": "stdout",
     "output_type": "stream",
     "text": [
      "Checkpointing path: s3://sagemaker-eu-west-2-468574038824/checkpoint-0c70892a\n"
     ]
    }
   ],
   "source": [
    "bucket = sagemaker_session_bucket\n",
    "checkpoint_suffix = str(uuid.uuid4())[:8]\n",
    "checkpoint_s3_path = 's3://{}/checkpoint-{}'.format(bucket, checkpoint_suffix)\n",
    "print(f'Checkpointing path: {checkpoint_s3_path}')"
   ]
  },
  {
   "cell_type": "markdown",
   "id": "5af56f22",
   "metadata": {},
   "source": [
    "### Upload data to s3\n",
    "We use the ```sagemaker.Session.upload_data``` function to upload our datasets to an S3 location. The return value inputs identifies the location -- we will use this later when we start the training job."
   ]
  },
  {
   "cell_type": "code",
   "execution_count": 204,
   "id": "da459e63",
   "metadata": {},
   "outputs": [],
   "source": [
    "task_name = tasks[selected_task]['task_name']\n",
    "prefix = f'sagemaker/clinical-prediction-{selected_task}'"
   ]
  },
  {
   "cell_type": "code",
   "execution_count": 205,
   "id": "6738d3c1",
   "metadata": {},
   "outputs": [
    {
     "name": "stdout",
     "output_type": "stream",
     "text": [
      "s3://sagemaker-eu-west-2-468574038824/sagemaker/clinical-prediction-diagnoses-plus-icd-hierarchy/train/DIA_PLUS_adm_train.csv\n",
      "s3://sagemaker-eu-west-2-468574038824/sagemaker/clinical-prediction-diagnoses-plus-icd-hierarchy/val/DIA_PLUS_adm_val.csv\n",
      "s3://sagemaker-eu-west-2-468574038824/sagemaker/clinical-prediction-diagnoses-plus-icd-hierarchy/test/DIA_PLUS_adm_test.csv\n"
     ]
    }
   ],
   "source": [
    "for x in ['train','val','test']:\n",
    "    path = [x for x in Path(DIR_TO_SAVE_DATA).glob(f'{task_name}*{x}.csv')][-1]\n",
    "    print(sess.upload_data(str(path), bucket, prefix + f'/{x}'))"
   ]
  },
  {
   "cell_type": "code",
   "execution_count": 206,
   "id": "07dc38a0",
   "metadata": {},
   "outputs": [],
   "source": [
    "for x in Path(DIR_TO_SAVE_DATA).glob(f'*.txt'): \n",
    "    sess.upload_data(str(x), bucket, prefix + f'/train')"
   ]
  },
  {
   "cell_type": "code",
   "execution_count": 207,
   "id": "2bd47f68",
   "metadata": {},
   "outputs": [],
   "source": [
    "train_config = sagemaker.inputs.TrainingInput(f's3://{bucket}/{prefix}/train/', content_type='text/csv')\n",
    "val_config = sagemaker.inputs.TrainingInput(f's3://{bucket}/{prefix}/val/', content_type='text/csv')\n",
    "test_config = sagemaker.inputs.TrainingInput(f's3://{bucket}/{prefix}/test/', content_type='text/csv')"
   ]
  },
  {
   "cell_type": "markdown",
   "id": "0fd717de",
   "metadata": {},
   "source": [
    "### Managed Spot Training"
   ]
  },
  {
   "cell_type": "code",
   "execution_count": 208,
   "id": "79cc0d16",
   "metadata": {},
   "outputs": [],
   "source": [
    "use_spot_instances = False\n",
    "max_run = 86400\n",
    "max_wait = 3600 if use_spot_instances else 1"
   ]
  },
  {
   "cell_type": "code",
   "execution_count": 209,
   "id": "7dcce697",
   "metadata": {},
   "outputs": [
    {
     "name": "stdout",
     "output_type": "stream",
     "text": [
      "Instance type = ml.p3.2xlarge\n"
     ]
    }
   ],
   "source": [
    "import os, subprocess\n",
    "\n",
    "# instance_type = 'local'\n",
    "instance_type = 'ml.p3.2xlarge'\n",
    "instance_count = 1\n",
    "\n",
    "if instance_type is 'local' and subprocess.call('nvidia-smi') == 0:\n",
    "    ## Set type to GPU if one is present\n",
    "    instance_type = 'local_gpu'\n",
    "    \n",
    "print(\"Instance type = \" + instance_type)"
   ]
  },
  {
   "cell_type": "code",
   "execution_count": 210,
   "id": "6bf107b9",
   "metadata": {},
   "outputs": [],
   "source": [
    "hyperparameters = {\n",
    "    'task_config': tasks[selected_task]['config_file'],\n",
    "    'model_name_or_path': \"distilbert-base-uncased\",\n",
    "    'cache_dir': \"cache_dir\",\n",
    "    'epochs': 200,\n",
    "    'batch_size': 5,\n",
    "}"
   ]
  },
  {
   "cell_type": "code",
   "execution_count": 211,
   "id": "761367c2",
   "metadata": {},
   "outputs": [],
   "source": [
    "from sagemaker.pytorch import PyTorch\n",
    "\n",
    "estimator = PyTorch(\n",
    "    entry_point='doc_classification.py',\n",
    "    source_dir='./experiments',\n",
    "    role=role,\n",
    "    instance_type=instance_type,\n",
    "    instance_count=instance_count,\n",
    "    base_job_name=f'clinical-prediction-{selected_task}',\n",
    "#     checkpoint_s3_uri=checkpoint_s3_uri,\n",
    "#     use_spot_instances=use_spot_instances,\n",
    "#     max_wait=max_run, # This should be equal to or greater than max_run in seconds'\n",
    "#     max_run=max_wait, # expected max run in seconds\n",
    "    framework_version='1.8.0',\n",
    "    py_version='py36',\n",
    "    hyperparameters=hyperparameters)"
   ]
  },
  {
   "cell_type": "code",
   "execution_count": 212,
   "id": "9063820c",
   "metadata": {},
   "outputs": [
    {
     "ename": "ResourceLimitExceeded",
     "evalue": "An error occurred (ResourceLimitExceeded) when calling the CreateTrainingJob operation: The account-level service limit 'Number of instances across all processing jobs' is 4 Instances, with current utilization of 4 Instances and a request delta of 1 Instances. Please contact AWS support to request an increase for this limit.",
     "output_type": "error",
     "traceback": [
      "\u001b[0;31m---------------------------------------------------------------------------\u001b[0m",
      "\u001b[0;31mResourceLimitExceeded\u001b[0m                     Traceback (most recent call last)",
      "\u001b[0;32m<ipython-input-212-09d4c95b870a>\u001b[0m in \u001b[0;36m<module>\u001b[0;34m\u001b[0m\n\u001b[0;32m----> 1\u001b[0;31m \u001b[0mestimator\u001b[0m\u001b[0;34m.\u001b[0m\u001b[0mfit\u001b[0m\u001b[0;34m(\u001b[0m\u001b[0;34m{\u001b[0m\u001b[0;34m'train'\u001b[0m\u001b[0;34m:\u001b[0m \u001b[0mtrain_config\u001b[0m\u001b[0;34m,\u001b[0m \u001b[0;34m'val'\u001b[0m\u001b[0;34m:\u001b[0m \u001b[0mval_config\u001b[0m\u001b[0;34m,\u001b[0m \u001b[0;34m'test'\u001b[0m\u001b[0;34m:\u001b[0m \u001b[0mtest_config\u001b[0m\u001b[0;34m}\u001b[0m\u001b[0;34m,\u001b[0m \u001b[0mwait\u001b[0m\u001b[0;34m=\u001b[0m\u001b[0;32mFalse\u001b[0m\u001b[0;34m)\u001b[0m\u001b[0;34m\u001b[0m\u001b[0;34m\u001b[0m\u001b[0m\n\u001b[0m",
      "\u001b[0;32m~/anaconda3/envs/pytorch_latest_p36/lib/python3.6/site-packages/sagemaker/estimator.py\u001b[0m in \u001b[0;36mfit\u001b[0;34m(self, inputs, wait, logs, job_name, experiment_config)\u001b[0m\n\u001b[1;32m    667\u001b[0m         \u001b[0mself\u001b[0m\u001b[0;34m.\u001b[0m\u001b[0m_prepare_for_training\u001b[0m\u001b[0;34m(\u001b[0m\u001b[0mjob_name\u001b[0m\u001b[0;34m=\u001b[0m\u001b[0mjob_name\u001b[0m\u001b[0;34m)\u001b[0m\u001b[0;34m\u001b[0m\u001b[0;34m\u001b[0m\u001b[0m\n\u001b[1;32m    668\u001b[0m \u001b[0;34m\u001b[0m\u001b[0m\n\u001b[0;32m--> 669\u001b[0;31m         \u001b[0mself\u001b[0m\u001b[0;34m.\u001b[0m\u001b[0mlatest_training_job\u001b[0m \u001b[0;34m=\u001b[0m \u001b[0m_TrainingJob\u001b[0m\u001b[0;34m.\u001b[0m\u001b[0mstart_new\u001b[0m\u001b[0;34m(\u001b[0m\u001b[0mself\u001b[0m\u001b[0;34m,\u001b[0m \u001b[0minputs\u001b[0m\u001b[0;34m,\u001b[0m \u001b[0mexperiment_config\u001b[0m\u001b[0;34m)\u001b[0m\u001b[0;34m\u001b[0m\u001b[0;34m\u001b[0m\u001b[0m\n\u001b[0m\u001b[1;32m    670\u001b[0m         \u001b[0mself\u001b[0m\u001b[0;34m.\u001b[0m\u001b[0mjobs\u001b[0m\u001b[0;34m.\u001b[0m\u001b[0mappend\u001b[0m\u001b[0;34m(\u001b[0m\u001b[0mself\u001b[0m\u001b[0;34m.\u001b[0m\u001b[0mlatest_training_job\u001b[0m\u001b[0;34m)\u001b[0m\u001b[0;34m\u001b[0m\u001b[0;34m\u001b[0m\u001b[0m\n\u001b[1;32m    671\u001b[0m         \u001b[0;32mif\u001b[0m \u001b[0mwait\u001b[0m\u001b[0;34m:\u001b[0m\u001b[0;34m\u001b[0m\u001b[0;34m\u001b[0m\u001b[0m\n",
      "\u001b[0;32m~/anaconda3/envs/pytorch_latest_p36/lib/python3.6/site-packages/sagemaker/estimator.py\u001b[0m in \u001b[0;36mstart_new\u001b[0;34m(cls, estimator, inputs, experiment_config)\u001b[0m\n\u001b[1;32m   1430\u001b[0m         \"\"\"\n\u001b[1;32m   1431\u001b[0m         \u001b[0mtrain_args\u001b[0m \u001b[0;34m=\u001b[0m \u001b[0mcls\u001b[0m\u001b[0;34m.\u001b[0m\u001b[0m_get_train_args\u001b[0m\u001b[0;34m(\u001b[0m\u001b[0mestimator\u001b[0m\u001b[0;34m,\u001b[0m \u001b[0minputs\u001b[0m\u001b[0;34m,\u001b[0m \u001b[0mexperiment_config\u001b[0m\u001b[0;34m)\u001b[0m\u001b[0;34m\u001b[0m\u001b[0;34m\u001b[0m\u001b[0m\n\u001b[0;32m-> 1432\u001b[0;31m         \u001b[0mestimator\u001b[0m\u001b[0;34m.\u001b[0m\u001b[0msagemaker_session\u001b[0m\u001b[0;34m.\u001b[0m\u001b[0mtrain\u001b[0m\u001b[0;34m(\u001b[0m\u001b[0;34m**\u001b[0m\u001b[0mtrain_args\u001b[0m\u001b[0;34m)\u001b[0m\u001b[0;34m\u001b[0m\u001b[0;34m\u001b[0m\u001b[0m\n\u001b[0m\u001b[1;32m   1433\u001b[0m \u001b[0;34m\u001b[0m\u001b[0m\n\u001b[1;32m   1434\u001b[0m         \u001b[0;32mreturn\u001b[0m \u001b[0mcls\u001b[0m\u001b[0;34m(\u001b[0m\u001b[0mestimator\u001b[0m\u001b[0;34m.\u001b[0m\u001b[0msagemaker_session\u001b[0m\u001b[0;34m,\u001b[0m \u001b[0mestimator\u001b[0m\u001b[0;34m.\u001b[0m\u001b[0m_current_job_name\u001b[0m\u001b[0;34m)\u001b[0m\u001b[0;34m\u001b[0m\u001b[0;34m\u001b[0m\u001b[0m\n",
      "\u001b[0;32m~/anaconda3/envs/pytorch_latest_p36/lib/python3.6/site-packages/sagemaker/session.py\u001b[0m in \u001b[0;36mtrain\u001b[0;34m(self, input_mode, input_config, role, job_name, output_config, resource_config, vpc_config, hyperparameters, stop_condition, tags, metric_definitions, enable_network_isolation, image_uri, algorithm_arn, encrypt_inter_container_traffic, use_spot_instances, checkpoint_s3_uri, checkpoint_local_path, experiment_config, debugger_rule_configs, debugger_hook_config, tensorboard_output_config, enable_sagemaker_metrics, profiler_rule_configs, profiler_config, environment)\u001b[0m\n\u001b[1;32m    565\u001b[0m         \u001b[0mLOGGER\u001b[0m\u001b[0;34m.\u001b[0m\u001b[0minfo\u001b[0m\u001b[0;34m(\u001b[0m\u001b[0;34m\"Creating training-job with name: %s\"\u001b[0m\u001b[0;34m,\u001b[0m \u001b[0mjob_name\u001b[0m\u001b[0;34m)\u001b[0m\u001b[0;34m\u001b[0m\u001b[0;34m\u001b[0m\u001b[0m\n\u001b[1;32m    566\u001b[0m         \u001b[0mLOGGER\u001b[0m\u001b[0;34m.\u001b[0m\u001b[0mdebug\u001b[0m\u001b[0;34m(\u001b[0m\u001b[0;34m\"train request: %s\"\u001b[0m\u001b[0;34m,\u001b[0m \u001b[0mjson\u001b[0m\u001b[0;34m.\u001b[0m\u001b[0mdumps\u001b[0m\u001b[0;34m(\u001b[0m\u001b[0mtrain_request\u001b[0m\u001b[0;34m,\u001b[0m \u001b[0mindent\u001b[0m\u001b[0;34m=\u001b[0m\u001b[0;36m4\u001b[0m\u001b[0;34m)\u001b[0m\u001b[0;34m)\u001b[0m\u001b[0;34m\u001b[0m\u001b[0;34m\u001b[0m\u001b[0m\n\u001b[0;32m--> 567\u001b[0;31m         \u001b[0mself\u001b[0m\u001b[0;34m.\u001b[0m\u001b[0msagemaker_client\u001b[0m\u001b[0;34m.\u001b[0m\u001b[0mcreate_training_job\u001b[0m\u001b[0;34m(\u001b[0m\u001b[0;34m**\u001b[0m\u001b[0mtrain_request\u001b[0m\u001b[0;34m)\u001b[0m\u001b[0;34m\u001b[0m\u001b[0;34m\u001b[0m\u001b[0m\n\u001b[0m\u001b[1;32m    568\u001b[0m \u001b[0;34m\u001b[0m\u001b[0m\n\u001b[1;32m    569\u001b[0m     def _get_train_request(  # noqa: C901\n",
      "\u001b[0;32m~/anaconda3/envs/pytorch_latest_p36/lib/python3.6/site-packages/botocore/client.py\u001b[0m in \u001b[0;36m_api_call\u001b[0;34m(self, *args, **kwargs)\u001b[0m\n\u001b[1;32m    355\u001b[0m                     \"%s() only accepts keyword arguments.\" % py_operation_name)\n\u001b[1;32m    356\u001b[0m             \u001b[0;31m# The \"self\" in this scope is referring to the BaseClient.\u001b[0m\u001b[0;34m\u001b[0m\u001b[0;34m\u001b[0m\u001b[0;34m\u001b[0m\u001b[0m\n\u001b[0;32m--> 357\u001b[0;31m             \u001b[0;32mreturn\u001b[0m \u001b[0mself\u001b[0m\u001b[0;34m.\u001b[0m\u001b[0m_make_api_call\u001b[0m\u001b[0;34m(\u001b[0m\u001b[0moperation_name\u001b[0m\u001b[0;34m,\u001b[0m \u001b[0mkwargs\u001b[0m\u001b[0;34m)\u001b[0m\u001b[0;34m\u001b[0m\u001b[0;34m\u001b[0m\u001b[0m\n\u001b[0m\u001b[1;32m    358\u001b[0m \u001b[0;34m\u001b[0m\u001b[0m\n\u001b[1;32m    359\u001b[0m         \u001b[0m_api_call\u001b[0m\u001b[0;34m.\u001b[0m\u001b[0m__name__\u001b[0m \u001b[0;34m=\u001b[0m \u001b[0mstr\u001b[0m\u001b[0;34m(\u001b[0m\u001b[0mpy_operation_name\u001b[0m\u001b[0;34m)\u001b[0m\u001b[0;34m\u001b[0m\u001b[0;34m\u001b[0m\u001b[0m\n",
      "\u001b[0;32m~/anaconda3/envs/pytorch_latest_p36/lib/python3.6/site-packages/botocore/client.py\u001b[0m in \u001b[0;36m_make_api_call\u001b[0;34m(self, operation_name, api_params)\u001b[0m\n\u001b[1;32m    674\u001b[0m             \u001b[0merror_code\u001b[0m \u001b[0;34m=\u001b[0m \u001b[0mparsed_response\u001b[0m\u001b[0;34m.\u001b[0m\u001b[0mget\u001b[0m\u001b[0;34m(\u001b[0m\u001b[0;34m\"Error\"\u001b[0m\u001b[0;34m,\u001b[0m \u001b[0;34m{\u001b[0m\u001b[0;34m}\u001b[0m\u001b[0;34m)\u001b[0m\u001b[0;34m.\u001b[0m\u001b[0mget\u001b[0m\u001b[0;34m(\u001b[0m\u001b[0;34m\"Code\"\u001b[0m\u001b[0;34m)\u001b[0m\u001b[0;34m\u001b[0m\u001b[0;34m\u001b[0m\u001b[0m\n\u001b[1;32m    675\u001b[0m             \u001b[0merror_class\u001b[0m \u001b[0;34m=\u001b[0m \u001b[0mself\u001b[0m\u001b[0;34m.\u001b[0m\u001b[0mexceptions\u001b[0m\u001b[0;34m.\u001b[0m\u001b[0mfrom_code\u001b[0m\u001b[0;34m(\u001b[0m\u001b[0merror_code\u001b[0m\u001b[0;34m)\u001b[0m\u001b[0;34m\u001b[0m\u001b[0;34m\u001b[0m\u001b[0m\n\u001b[0;32m--> 676\u001b[0;31m             \u001b[0;32mraise\u001b[0m \u001b[0merror_class\u001b[0m\u001b[0;34m(\u001b[0m\u001b[0mparsed_response\u001b[0m\u001b[0;34m,\u001b[0m \u001b[0moperation_name\u001b[0m\u001b[0;34m)\u001b[0m\u001b[0;34m\u001b[0m\u001b[0;34m\u001b[0m\u001b[0m\n\u001b[0m\u001b[1;32m    677\u001b[0m         \u001b[0;32melse\u001b[0m\u001b[0;34m:\u001b[0m\u001b[0;34m\u001b[0m\u001b[0;34m\u001b[0m\u001b[0m\n\u001b[1;32m    678\u001b[0m             \u001b[0;32mreturn\u001b[0m \u001b[0mparsed_response\u001b[0m\u001b[0;34m\u001b[0m\u001b[0;34m\u001b[0m\u001b[0m\n",
      "\u001b[0;31mResourceLimitExceeded\u001b[0m: An error occurred (ResourceLimitExceeded) when calling the CreateTrainingJob operation: The account-level service limit 'Number of instances across all processing jobs' is 4 Instances, with current utilization of 4 Instances and a request delta of 1 Instances. Please contact AWS support to request an increase for this limit."
     ]
    }
   ],
   "source": [
    "estimator.fit({'train': train_config, 'val': val_config, 'test': test_config}, wait=False)"
   ]
  },
  {
   "cell_type": "code",
   "execution_count": null,
   "id": "fa691852",
   "metadata": {},
   "outputs": [],
   "source": []
  },
  {
   "cell_type": "code",
   "execution_count": null,
   "id": "837cfa9f",
   "metadata": {},
   "outputs": [],
   "source": []
  }
 ],
 "metadata": {
  "kernelspec": {
   "display_name": "conda_python3",
   "language": "python",
   "name": "conda_python3"
  },
  "language_info": {
   "codemirror_mode": {
    "name": "ipython",
    "version": 3
   },
   "file_extension": ".py",
   "mimetype": "text/x-python",
   "name": "python",
   "nbconvert_exporter": "python",
   "pygments_lexer": "ipython3",
   "version": "3.6.13"
  }
 },
 "nbformat": 4,
 "nbformat_minor": 5
}
