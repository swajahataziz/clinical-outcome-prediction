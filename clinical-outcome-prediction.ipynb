{
 "cells": [
  {
   "cell_type": "markdown",
   "id": "cf6e9d18",
   "metadata": {},
   "source": [
    "# Clinical Outcome Prediction from Admission Notes\n",
    "## Model training"
   ]
  },
  {
   "cell_type": "markdown",
   "id": "6115c962",
   "metadata": {},
   "source": [
    "This repository contains source code for the task creation and experiments from our paper [Clinical Outcome Prediction from Admission Notes using Self-Supervised Knowledge Integration](https://arxiv.org/abs/2102.04110), to appear at EACL 2021."
   ]
  },
  {
   "cell_type": "markdown",
   "id": "83268f14",
   "metadata": {},
   "source": [
    "## Install Required Dependencies"
   ]
  },
  {
   "cell_type": "code",
   "execution_count": 1,
   "id": "69eea369",
   "metadata": {},
   "outputs": [],
   "source": [
    "!pip install tqdm -q\n",
    "# !pip install -U sagemaker -q"
   ]
  },
  {
   "cell_type": "code",
   "execution_count": 2,
   "id": "a5db2d03",
   "metadata": {},
   "outputs": [
    {
     "name": "stderr",
     "output_type": "stream",
     "text": [
      "[nltk_data] Downloading package stopwords to\n",
      "[nltk_data]     /home/ec2-user/nltk_data...\n",
      "[nltk_data]   Unzipping corpora/stopwords.zip.\n"
     ]
    },
    {
     "data": {
      "text/plain": [
       "True"
      ]
     },
     "execution_count": 2,
     "metadata": {},
     "output_type": "execute_result"
    }
   ],
   "source": [
    "import nltk\n",
    "nltk.download('stopwords')"
   ]
  },
  {
   "cell_type": "markdown",
   "id": "10834335",
   "metadata": {},
   "source": [
    "## Prepare data"
   ]
  },
  {
   "cell_type": "code",
   "execution_count": 3,
   "id": "f9d1b55c",
   "metadata": {},
   "outputs": [],
   "source": [
    "import boto3\n",
    "import logging\n",
    "import io\n",
    "import os\n",
    "import tarfile\n",
    "from pathlib import Path\n",
    "from tqdm import tqdm\n",
    "from botocore.client import Config"
   ]
  },
  {
   "cell_type": "code",
   "execution_count": 6,
   "id": "ab1f48e2",
   "metadata": {},
   "outputs": [],
   "source": [
    "DATA_DIR = \"data\"\n",
    "BUCKET = 'mimic-data-for-demo'\n",
    "MIMIC = 'mimic-iii-physionet'\n",
    "MIMIC_DIR = os.path.join(DATA_DIR,MIMIC)\n",
    "TAR_FILE = 'mimic3minimal.tar.gz'\n",
    "DIR_TO_SAVE_DATA = 'export'"
   ]
  },
  {
   "cell_type": "code",
   "execution_count": 7,
   "id": "867eb689",
   "metadata": {},
   "outputs": [],
   "source": [
    "Path(DATA_DIR).mkdir(parents=True,exist_ok=True)\n",
    "s3 = boto3.client('s3')"
   ]
  },
  {
   "cell_type": "markdown",
   "id": "c5d01680",
   "metadata": {},
   "source": [
    "### Download data => *optional*"
   ]
  },
  {
   "cell_type": "code",
   "execution_count": 8,
   "id": "c8d0eea9",
   "metadata": {},
   "outputs": [
    {
     "name": "stdout",
     "output_type": "stream",
     "text": [
      "file already exists\n"
     ]
    }
   ],
   "source": [
    "if not Path(f'{DATA_DIR}/{TAR_FILE}').exists():\n",
    "    s3.download_file(BUCKET, TAR_FILE, f\"{DATA_DIR}/{TAR_FILE}\")\n",
    "else:\n",
    "    print('file already exists')"
   ]
  },
  {
   "cell_type": "markdown",
   "id": "826601e3",
   "metadata": {},
   "source": [
    "### Extract tar.gz and sync with s3 => *optional*"
   ]
  },
  {
   "cell_type": "code",
   "execution_count": 12,
   "id": "4e902d19",
   "metadata": {},
   "outputs": [],
   "source": [
    "tar = tarfile.open(name=f'{DATA_DIR}/{TAR_FILE}')\n",
    "tar.extractall(f'{DATA_DIR}')\n",
    "tar.close()"
   ]
  },
  {
   "cell_type": "code",
   "execution_count": 28,
   "id": "82be7b0b",
   "metadata": {},
   "outputs": [
    {
     "name": "stdout",
     "output_type": "stream",
     "text": [
      "data/User/Desktop/file.txt\n"
     ]
    }
   ],
   "source": [
    "# !aws s3 sync {DATA_DIR}/{MIMIC_DIR}/ s3://{BUCKET}/unzipped/\n",
    "path = 'data'\n",
    "print(os.path.join(path, \"User/Desktop\", \"file.txt\"))"
   ]
  },
  {
   "cell_type": "code",
   "execution_count": 29,
   "id": "292a8cee",
   "metadata": {},
   "outputs": [],
   "source": [
    "# Create path to task data\n",
    "os.makedirs(path+'/train', exist_ok=True)"
   ]
  },
  {
   "cell_type": "markdown",
   "id": "7d479770",
   "metadata": {},
   "source": [
    "### Create a Task Dictionary"
   ]
  },
  {
   "cell_type": "code",
   "execution_count": 6,
   "id": "5dfb67f6",
   "metadata": {},
   "outputs": [],
   "source": [
    "tasks = {\n",
    "    \"mortality-prediction\": {\n",
    "        'path_to_script': 'tasks/mp/mp.py', \n",
    "        'task_name': 'MP_IN',\n",
    "        'config_file': 'configs/example_config_mp.yaml'\n",
    "    },\n",
    "    \"length-of-stay\": {\n",
    "        'path_to_script': 'tasks/los/los.py', \n",
    "        'task_name': 'LOS_WEEKS',\n",
    "        'config_file': 'configs/example_config_los.yaml'\n",
    "    },\n",
    "    \"diagnoses-3-digits\": {\n",
    "        'path_to_script': 'tasks/dia/dia.py', \n",
    "        'task_name': 'DIA_GROUPS_3_DIGITS',\n",
    "        'config_file': 'configs/example_config_dia_3.yaml'\n",
    "    },\n",
    "    \"diagnoses-plus-icd-hierarchy\": {\n",
    "        'path_to_script': 'tasks/dia/dia_plus.py', \n",
    "        'task_name': 'DIA_PLUS',\n",
    "        'config_file': 'configs/example_config_dia_plus.yaml'\n",
    "    },\n",
    "    \"procedures-3-digits\": {\n",
    "        'path_to_script': 'tasks/pro/pro.py', \n",
    "        'task_name': 'PRO_GROUPS_3_DIGITS',\n",
    "        'config_file': 'configs/example_config_pro_3.yaml'\n",
    "    },\n",
    "    \"procedures-plus-icd-hierarchy\": {\n",
    "        'path_to_script': 'tasks/pro/pro_plus.py', \n",
    "        'task_name': 'PRO_PLUS',\n",
    "        'config_file': 'configs/example_config_pro_plus.yaml'\n",
    "    },\n",
    "}"
   ]
  },
  {
   "cell_type": "markdown",
   "id": "056447eb",
   "metadata": {},
   "source": [
    "### Create training and validation datasets using SageMaker Processing"
   ]
  },
  {
   "cell_type": "markdown",
   "id": "5c503209",
   "metadata": {},
   "source": [
    "#### Start a new SM session and initiate SKLearnProcessor\n",
    "While initiating SKlearnProcessor, we will specify the following:\n",
    "* framework version\n",
    "* instance type\n",
    "* instance count"
   ]
  },
  {
   "cell_type": "code",
   "execution_count": 4,
   "id": "3867d9fc",
   "metadata": {},
   "outputs": [],
   "source": [
    "import boto3\n",
    "from sagemaker import get_execution_role\n",
    "from sagemaker.sklearn.processing import SKLearnProcessor\n",
    "\n",
    "region = boto3.session.Session().region_name\n",
    "\n",
    "role = get_execution_role()\n",
    "sklearn_processor = SKLearnProcessor(base_job_name='clinical-outcome-processing',\n",
    "                                     framework_version='0.20.0',\n",
    "                                     role=role,\n",
    "                                     instance_type='ml.m5.2xlarge',\n",
    "                                     instance_count=1)"
   ]
  },
  {
   "cell_type": "markdown",
   "id": "88303010",
   "metadata": {},
   "source": [
    "### Prepare Data for Mortality Prediction"
   ]
  },
  {
   "cell_type": "code",
   "execution_count": 7,
   "id": "72e47c8d",
   "metadata": {},
   "outputs": [],
   "source": [
    "selected_task = \"mortality-prediction\"\n",
    "processing_script = tasks[selected_task]['path_to_script']"
   ]
  },
  {
   "cell_type": "markdown",
   "id": "88e892d5",
   "metadata": {},
   "source": [
    "#### Specify bucket to be used for staging data"
   ]
  },
  {
   "cell_type": "code",
   "execution_count": 11,
   "id": "37899b2f",
   "metadata": {},
   "outputs": [],
   "source": [
    "bucket = 'mimic-data-for-demo'\n",
    "prefix = 'unzipped'"
   ]
  },
  {
   "cell_type": "markdown",
   "id": "0f308210",
   "metadata": {},
   "source": [
    "The processing job will require the following parameters:\n",
    "- `ProcessingInput`: A ProcessingInput object specifying the S3 bucket an prefix to source the data from\n",
    "- `ProcessingOutput`: A ProcessingOutput object specifying the S3 bucket an prefix to source the data from\n",
    "\n",
    "Arguments:\n",
    "- `admission_only`: Filter parts of Discharge Summary that are not known at Admission. `True` => Create simulated Admission Notes, `False` => Keep complete Discharge Summaries"
   ]
  },
  {
   "cell_type": "code",
   "execution_count": 30,
   "id": "cc017685",
   "metadata": {},
   "outputs": [
    {
     "name": "stdout",
     "output_type": "stream",
     "text": [
      "\n",
      "Job Name:  clinical-outcome-processing-2021-05-07-01-23-37-567\n",
      "Inputs:  [{'InputName': 'input-1', 'AppManaged': False, 'S3Input': {'S3Uri': 's3://mimic-data-for-demo/unzipped', 'LocalPath': '/opt/ml/processing/input', 'S3DataType': 'S3Prefix', 'S3InputMode': 'File', 'S3DataDistributionType': 'FullyReplicated', 'S3CompressionType': 'None'}}, {'InputName': 'code', 'AppManaged': False, 'S3Input': {'S3Uri': 's3://sagemaker-eu-west-2-468574038824/clinical-outcome-processing-2021-05-07-01-23-37-567/input/code/mp.py', 'LocalPath': '/opt/ml/processing/input/code', 'S3DataType': 'S3Prefix', 'S3InputMode': 'File', 'S3DataDistributionType': 'FullyReplicated', 'S3CompressionType': 'None'}}]\n",
      "Outputs:  [{'OutputName': 'processed', 'AppManaged': False, 'S3Output': {'S3Uri': 's3://mimic-data-for-demo/processed', 'LocalPath': '/opt/ml/processing/output', 'S3UploadMode': 'EndOfJob'}}]\n",
      "...........................................................................\u001b[34msys:1: DtypeWarning: Columns (4,5) have mixed types. Specify dtype option on import or set low_memory=False.\u001b[0m\n",
      "\u001b[34m/opt/ml/processing/input/code/mp.py:152: SettingWithCopyWarning: \u001b[0m\n",
      "\u001b[34mA value is trying to be set on a copy of a slice from a DataFrame.\u001b[0m\n",
      "\u001b[34mTry using .loc[row_indexer,col_indexer] = value instead\n",
      "\u001b[0m\n",
      "\u001b[34mSee the caveats in the documentation: http://pandas.pydata.org/pandas-docs/stable/user_guide/indexing.html#returning-a-view-versus-a-copy\n",
      "  notes_df[notes_df[key].str.startswith(\"[]\")][key] = \"\"\u001b[0m\n",
      "\n"
     ]
    }
   ],
   "source": [
    "from sagemaker.processing import ProcessingInput, ProcessingOutput\n",
    "\n",
    "sklearn_processor.run(code=processing_script,\n",
    "                      inputs=[ProcessingInput(\n",
    "                        source='s3://'+bucket+'/'+ prefix,\n",
    "                        destination='/opt/ml/processing/input')],\n",
    "                      outputs=[ProcessingOutput(output_name='processed',\n",
    "                                                source='/opt/ml/processing/output',\n",
    "                                               destination='s3://'+bucket+'/processed')],\n",
    "                      arguments=['--admission-only', 'True']\n",
    "                     )"
   ]
  },
  {
   "cell_type": "code",
   "execution_count": 34,
   "id": "59f4deb8",
   "metadata": {},
   "outputs": [],
   "source": [
    "preprocessing_job_description = sklearn_processor.jobs[-1].describe()\n",
    "\n",
    "output_config = preprocessing_job_description['ProcessingOutputConfig']\n",
    "for output in output_config['Outputs']:\n",
    "    if output['OutputName'] == 'processed':\n",
    "        preprocessed_training_data = output['S3Output']['S3Uri']"
   ]
  },
  {
   "cell_type": "markdown",
   "id": "30f0c116",
   "metadata": {},
   "source": [
    "### Prepare data for Length of Stay"
   ]
  },
  {
   "cell_type": "code",
   "execution_count": 12,
   "id": "4e360c71",
   "metadata": {},
   "outputs": [],
   "source": [
    "selected_task = \"length-of-stay\"\n",
    "processing_script = tasks[selected_task]['path_to_script']"
   ]
  },
  {
   "cell_type": "code",
   "execution_count": null,
   "id": "c35935df",
   "metadata": {},
   "outputs": [
    {
     "name": "stdout",
     "output_type": "stream",
     "text": [
      "\n",
      "Job Name:  clinical-outcome-processing-2021-05-11-17-57-11-573\n",
      "Inputs:  [{'InputName': 'input-1', 'AppManaged': False, 'S3Input': {'S3Uri': 's3://mimic-data-for-demo/unzipped', 'LocalPath': '/opt/ml/processing/input', 'S3DataType': 'S3Prefix', 'S3InputMode': 'File', 'S3DataDistributionType': 'FullyReplicated', 'S3CompressionType': 'None'}}, {'InputName': 'code', 'AppManaged': False, 'S3Input': {'S3Uri': 's3://sagemaker-eu-west-2-468574038824/clinical-outcome-processing-2021-05-11-17-57-11-573/input/code/los.py', 'LocalPath': '/opt/ml/processing/input/code', 'S3DataType': 'S3Prefix', 'S3InputMode': 'File', 'S3DataDistributionType': 'FullyReplicated', 'S3CompressionType': 'None'}}]\n",
      "Outputs:  [{'OutputName': 'processed', 'AppManaged': False, 'S3Output': {'S3Uri': 's3://mimic-data-for-demo/processed', 'LocalPath': '/opt/ml/processing/output', 'S3UploadMode': 'EndOfJob'}}]\n",
      "................"
     ]
    }
   ],
   "source": [
    "from sagemaker.processing import ProcessingInput, ProcessingOutput\n",
    "\n",
    "sklearn_processor.run(code=processing_script,\n",
    "                      inputs=[ProcessingInput(\n",
    "                        source='s3://'+bucket+'/'+ prefix,\n",
    "                        destination='/opt/ml/processing/input')],\n",
    "                      outputs=[ProcessingOutput(output_name='processed',\n",
    "                                                source='/opt/ml/processing/output',\n",
    "                                               destination='s3://'+bucket+'/processed')],\n",
    "                      arguments=['--admission-only', 'True']\n",
    "                     )"
   ]
  },
  {
   "cell_type": "markdown",
   "id": "41f5bce1",
   "metadata": {},
   "source": [
    "### Prepare Data for Procedure (3 Digits)"
   ]
  },
  {
   "cell_type": "code",
   "execution_count": 20,
   "id": "76d98e10",
   "metadata": {},
   "outputs": [],
   "source": [
    "selected_task = \"procedures-3-digits\"\n",
    "processing_script = tasks[selected_task]['path_to_script']"
   ]
  },
  {
   "cell_type": "code",
   "execution_count": 26,
   "id": "da520447",
   "metadata": {},
   "outputs": [
    {
     "name": "stdout",
     "output_type": "stream",
     "text": [
      "\n",
      "Job Name:  clinical-outcome-processing-2021-05-17-16-06-08-812\n",
      "Inputs:  [{'InputName': 'input-1', 'AppManaged': False, 'S3Input': {'S3Uri': 's3://mimic-data-syedazi/processed', 'LocalPath': '/opt/ml/processing/input', 'S3DataType': 'S3Prefix', 'S3InputMode': 'File', 'S3DataDistributionType': 'FullyReplicated', 'S3CompressionType': 'None'}}, {'InputName': 'code', 'AppManaged': False, 'S3Input': {'S3Uri': 's3://sagemaker-us-east-1-463045133778/clinical-outcome-processing-2021-05-17-16-06-08-812/input/code/mp.py', 'LocalPath': '/opt/ml/processing/input/code', 'S3DataType': 'S3Prefix', 'S3InputMode': 'File', 'S3DataDistributionType': 'FullyReplicated', 'S3CompressionType': 'None'}}]\n",
      "Outputs:  [{'OutputName': 'processed', 'AppManaged': False, 'S3Output': {'S3Uri': 's3://mimic-data-syedazi/processed', 'LocalPath': '/opt/ml/processing/output', 'S3UploadMode': 'EndOfJob'}}]\n",
      "...........................\n",
      "\u001b[34mTraceback (most recent call last):\n",
      "  File \"/opt/ml/processing/input/code/mp.py\", line 6, in <module>\n",
      "    from tasks import mimic_utils\u001b[0m\n",
      "\u001b[34mModuleNotFoundError: No module named 'tasks'\u001b[0m\n"
     ]
    },
    {
     "ename": "UnexpectedStatusException",
     "evalue": "Error for Processing job clinical-outcome-processing-2021-05-17-16-06-08-812: Failed. Reason: AlgorithmError: See job logs for more information",
     "output_type": "error",
     "traceback": [
      "\u001b[0;31m---------------------------------------------------------------------------\u001b[0m",
      "\u001b[0;31mUnexpectedStatusException\u001b[0m                 Traceback (most recent call last)",
      "\u001b[0;32m<ipython-input-26-9a5b538f2e2a>\u001b[0m in \u001b[0;36m<module>\u001b[0;34m\u001b[0m\n\u001b[1;32m      8\u001b[0m                                                 \u001b[0msource\u001b[0m\u001b[0;34m=\u001b[0m\u001b[0;34m'/opt/ml/processing/output'\u001b[0m\u001b[0;34m,\u001b[0m\u001b[0;34m\u001b[0m\u001b[0;34m\u001b[0m\u001b[0m\n\u001b[1;32m      9\u001b[0m                                                destination='s3://'+bucket+'/processed')],\n\u001b[0;32m---> 10\u001b[0;31m                       \u001b[0marguments\u001b[0m\u001b[0;34m=\u001b[0m\u001b[0;34m[\u001b[0m\u001b[0;34m'--admission-only'\u001b[0m\u001b[0;34m,\u001b[0m \u001b[0;34m'True'\u001b[0m\u001b[0;34m]\u001b[0m\u001b[0;34m\u001b[0m\u001b[0;34m\u001b[0m\u001b[0m\n\u001b[0m\u001b[1;32m     11\u001b[0m                      )\n",
      "\u001b[0;32m~/anaconda3/envs/python3/lib/python3.6/site-packages/sagemaker/processing.py\u001b[0m in \u001b[0;36mrun\u001b[0;34m(self, code, inputs, outputs, arguments, wait, logs, job_name, experiment_config, kms_key)\u001b[0m\n\u001b[1;32m    527\u001b[0m         \u001b[0mself\u001b[0m\u001b[0;34m.\u001b[0m\u001b[0mjobs\u001b[0m\u001b[0;34m.\u001b[0m\u001b[0mappend\u001b[0m\u001b[0;34m(\u001b[0m\u001b[0mself\u001b[0m\u001b[0;34m.\u001b[0m\u001b[0mlatest_job\u001b[0m\u001b[0;34m)\u001b[0m\u001b[0;34m\u001b[0m\u001b[0;34m\u001b[0m\u001b[0m\n\u001b[1;32m    528\u001b[0m         \u001b[0;32mif\u001b[0m \u001b[0mwait\u001b[0m\u001b[0;34m:\u001b[0m\u001b[0;34m\u001b[0m\u001b[0;34m\u001b[0m\u001b[0m\n\u001b[0;32m--> 529\u001b[0;31m             \u001b[0mself\u001b[0m\u001b[0;34m.\u001b[0m\u001b[0mlatest_job\u001b[0m\u001b[0;34m.\u001b[0m\u001b[0mwait\u001b[0m\u001b[0;34m(\u001b[0m\u001b[0mlogs\u001b[0m\u001b[0;34m=\u001b[0m\u001b[0mlogs\u001b[0m\u001b[0;34m)\u001b[0m\u001b[0;34m\u001b[0m\u001b[0;34m\u001b[0m\u001b[0m\n\u001b[0m\u001b[1;32m    530\u001b[0m \u001b[0;34m\u001b[0m\u001b[0m\n\u001b[1;32m    531\u001b[0m     \u001b[0;32mdef\u001b[0m \u001b[0m_include_code_in_inputs\u001b[0m\u001b[0;34m(\u001b[0m\u001b[0mself\u001b[0m\u001b[0;34m,\u001b[0m \u001b[0minputs\u001b[0m\u001b[0;34m,\u001b[0m \u001b[0mcode\u001b[0m\u001b[0;34m)\u001b[0m\u001b[0;34m:\u001b[0m\u001b[0;34m\u001b[0m\u001b[0;34m\u001b[0m\u001b[0m\n",
      "\u001b[0;32m~/anaconda3/envs/python3/lib/python3.6/site-packages/sagemaker/processing.py\u001b[0m in \u001b[0;36mwait\u001b[0;34m(self, logs)\u001b[0m\n\u001b[1;32m    909\u001b[0m         \"\"\"\n\u001b[1;32m    910\u001b[0m         \u001b[0;32mif\u001b[0m \u001b[0mlogs\u001b[0m\u001b[0;34m:\u001b[0m\u001b[0;34m\u001b[0m\u001b[0;34m\u001b[0m\u001b[0m\n\u001b[0;32m--> 911\u001b[0;31m             \u001b[0mself\u001b[0m\u001b[0;34m.\u001b[0m\u001b[0msagemaker_session\u001b[0m\u001b[0;34m.\u001b[0m\u001b[0mlogs_for_processing_job\u001b[0m\u001b[0;34m(\u001b[0m\u001b[0mself\u001b[0m\u001b[0;34m.\u001b[0m\u001b[0mjob_name\u001b[0m\u001b[0;34m,\u001b[0m \u001b[0mwait\u001b[0m\u001b[0;34m=\u001b[0m\u001b[0;32mTrue\u001b[0m\u001b[0;34m)\u001b[0m\u001b[0;34m\u001b[0m\u001b[0;34m\u001b[0m\u001b[0m\n\u001b[0m\u001b[1;32m    912\u001b[0m         \u001b[0;32melse\u001b[0m\u001b[0;34m:\u001b[0m\u001b[0;34m\u001b[0m\u001b[0;34m\u001b[0m\u001b[0m\n\u001b[1;32m    913\u001b[0m             \u001b[0mself\u001b[0m\u001b[0;34m.\u001b[0m\u001b[0msagemaker_session\u001b[0m\u001b[0;34m.\u001b[0m\u001b[0mwait_for_processing_job\u001b[0m\u001b[0;34m(\u001b[0m\u001b[0mself\u001b[0m\u001b[0;34m.\u001b[0m\u001b[0mjob_name\u001b[0m\u001b[0;34m)\u001b[0m\u001b[0;34m\u001b[0m\u001b[0;34m\u001b[0m\u001b[0m\n",
      "\u001b[0;32m~/anaconda3/envs/python3/lib/python3.6/site-packages/sagemaker/session.py\u001b[0m in \u001b[0;36mlogs_for_processing_job\u001b[0;34m(self, job_name, wait, poll)\u001b[0m\n\u001b[1;32m   3748\u001b[0m \u001b[0;34m\u001b[0m\u001b[0m\n\u001b[1;32m   3749\u001b[0m         \u001b[0;32mif\u001b[0m \u001b[0mwait\u001b[0m\u001b[0;34m:\u001b[0m\u001b[0;34m\u001b[0m\u001b[0;34m\u001b[0m\u001b[0m\n\u001b[0;32m-> 3750\u001b[0;31m             \u001b[0mself\u001b[0m\u001b[0;34m.\u001b[0m\u001b[0m_check_job_status\u001b[0m\u001b[0;34m(\u001b[0m\u001b[0mjob_name\u001b[0m\u001b[0;34m,\u001b[0m \u001b[0mdescription\u001b[0m\u001b[0;34m,\u001b[0m \u001b[0;34m\"ProcessingJobStatus\"\u001b[0m\u001b[0;34m)\u001b[0m\u001b[0;34m\u001b[0m\u001b[0;34m\u001b[0m\u001b[0m\n\u001b[0m\u001b[1;32m   3751\u001b[0m             \u001b[0;32mif\u001b[0m \u001b[0mdot\u001b[0m\u001b[0;34m:\u001b[0m\u001b[0;34m\u001b[0m\u001b[0;34m\u001b[0m\u001b[0m\n\u001b[1;32m   3752\u001b[0m                 \u001b[0mprint\u001b[0m\u001b[0;34m(\u001b[0m\u001b[0;34m)\u001b[0m\u001b[0;34m\u001b[0m\u001b[0;34m\u001b[0m\u001b[0m\n",
      "\u001b[0;32m~/anaconda3/envs/python3/lib/python3.6/site-packages/sagemaker/session.py\u001b[0m in \u001b[0;36m_check_job_status\u001b[0;34m(self, job, desc, status_key_name)\u001b[0m\n\u001b[1;32m   3231\u001b[0m                 ),\n\u001b[1;32m   3232\u001b[0m                 \u001b[0mallowed_statuses\u001b[0m\u001b[0;34m=\u001b[0m\u001b[0;34m[\u001b[0m\u001b[0;34m\"Completed\"\u001b[0m\u001b[0;34m,\u001b[0m \u001b[0;34m\"Stopped\"\u001b[0m\u001b[0;34m]\u001b[0m\u001b[0;34m,\u001b[0m\u001b[0;34m\u001b[0m\u001b[0;34m\u001b[0m\u001b[0m\n\u001b[0;32m-> 3233\u001b[0;31m                 \u001b[0mactual_status\u001b[0m\u001b[0;34m=\u001b[0m\u001b[0mstatus\u001b[0m\u001b[0;34m,\u001b[0m\u001b[0;34m\u001b[0m\u001b[0;34m\u001b[0m\u001b[0m\n\u001b[0m\u001b[1;32m   3234\u001b[0m             )\n\u001b[1;32m   3235\u001b[0m \u001b[0;34m\u001b[0m\u001b[0m\n",
      "\u001b[0;31mUnexpectedStatusException\u001b[0m: Error for Processing job clinical-outcome-processing-2021-05-17-16-06-08-812: Failed. Reason: AlgorithmError: See job logs for more information"
     ]
    }
   ],
   "source": [
    "from sagemaker.processing import ProcessingInput, ProcessingOutput\n",
    "\n",
    "sklearn_processor.run(code=processing_script,\n",
    "                      inputs=[ProcessingInput(\n",
    "                        source='s3://'+bucket+'/'+ prefix,\n",
    "                        destination='/opt/ml/processing/input')],\n",
    "                      outputs=[ProcessingOutput(output_name='processed',\n",
    "                                                source='/opt/ml/processing/output',\n",
    "                                               destination='s3://'+bucket+'/processed')],\n",
    "                      arguments=['--admission-only', 'True']\n",
    "                     )"
   ]
  },
  {
   "cell_type": "markdown",
   "id": "726deb0e",
   "metadata": {},
   "source": [
    "## Sagemaker Training Job"
   ]
  },
  {
   "cell_type": "markdown",
   "id": "afa657e3",
   "metadata": {},
   "source": [
    "### Configuration"
   ]
  },
  {
   "cell_type": "code",
   "execution_count": 65,
   "id": "589dff06",
   "metadata": {},
   "outputs": [],
   "source": [
    "import sagemaker as sage\n",
    "from time import gmtime, strftime\n",
    "\n",
    "sess = sage.Session()"
   ]
  },
  {
   "cell_type": "code",
   "execution_count": 56,
   "id": "9ad082f8",
   "metadata": {},
   "outputs": [],
   "source": [
    "bucket = 'mimic-data-syedazi'\n",
    "prefix = 'processed'"
   ]
  },
  {
   "cell_type": "code",
   "execution_count": 57,
   "id": "31ff63bc",
   "metadata": {},
   "outputs": [],
   "source": [
    "train_config = sage.inputs.TrainingInput(f's3://{bucket}/{prefix}', content_type='text/csv')\n",
    "val_config = sage.inputs.TrainingInput(f's3://{bucket}/{prefix}/val/', content_type='text/csv')\n",
    "test_config = sage.inputs.TrainingInput(f's3://{bucket}/{prefix}/test/', content_type='text/csv')"
   ]
  },
  {
   "cell_type": "code",
   "execution_count": 58,
   "id": "398340c5",
   "metadata": {},
   "outputs": [],
   "source": [
    "hyperparameters = {\n",
    "    'task_config': tasks[selected_task]['config_file'],\n",
    "    'model_name_or_path': \"distilbert-base-uncased\",\n",
    "    'cache_dir': \"cache_dir\",\n",
    "    'epochs': 200,\n",
    "    'batch_size': 5,\n",
    "}"
   ]
  },
  {
   "cell_type": "code",
   "execution_count": 59,
   "id": "46c63476",
   "metadata": {},
   "outputs": [
    {
     "name": "stdout",
     "output_type": "stream",
     "text": [
      "Instance type = ml.p3.8xlarge\n"
     ]
    }
   ],
   "source": [
    "import os, subprocess\n",
    "\n",
    "# instance_type = 'local'\n",
    "instance_type = 'ml.p3.8xlarge'\n",
    "instance_count = 1\n",
    "\n",
    "if instance_type is 'local' and subprocess.call('nvidia-smi') == 0:\n",
    "    ## Set type to GPU if one is present\n",
    "    instance_type = 'local_gpu'\n",
    "    \n",
    "print(\"Instance type = \" + instance_type)"
   ]
  },
  {
   "cell_type": "code",
   "execution_count": null,
   "id": "34e97833",
   "metadata": {},
   "outputs": [],
   "source": [
    "account = sess.boto_session.client('sts').get_caller_identity()['Account']\n",
    "region = sess.boto_session.region_name\n",
    "\n",
    "from sagemaker.pytorch import PyTorch\n",
    "\n",
    "estimator = PyTorch(\n",
    "    entry_point='doc_classification.py',\n",
    "    source_dir='./experiments',\n",
    "    role=role,\n",
    "    instance_type=instance_type,\n",
    "    instance_count=instance_count,\n",
    "    base_job_name=f'clinical-prediction-{selected_task}',\n",
    "    framework_version='1.8.0',\n",
    "    py_version='py36',\n",
    "    hyperparameters=hyperparameters)"
   ]
  },
  {
   "cell_type": "code",
   "execution_count": 61,
   "id": "e3e32d14",
   "metadata": {},
   "outputs": [],
   "source": [
    "estimator.fit({'train': train_config, 'val': val_config, 'test': test_config}, wait=False)"
   ]
  },
  {
   "cell_type": "markdown",
   "id": "3d710897",
   "metadata": {},
   "source": [
    "## Hyperparameter Optimization"
   ]
  },
  {
   "cell_type": "code",
   "execution_count": 81,
   "id": "e2f6733b",
   "metadata": {},
   "outputs": [],
   "source": [
    "from sagemaker.tuner import IntegerParameter, ContinuousParameter, HyperparameterTuner\n",
    "import datetime\n",
    "\n",
    "tuning_job_name = \"clinical-outcomes-job-{}\".format(datetime.datetime.now().strftime(\"%d-%H-%M-%S\"))\n",
    "\n",
    "hyperparameter_ranges = {'lr': ContinuousParameter(1e-05, 2e-05),\n",
    "                         'batch_size': IntegerParameter(4, 6),\n",
    "                         'epochs': IntegerParameter(200, 240)}\n",
    "\n",
    "objective_metric_name = 'roc_auc'\n",
    "\n",
    "metric_definitions=[\n",
    "                                {'Name': 'accuracy', 'Regex': 'farm.eval -   acc:(.*?\\d{10})'},\n",
    "                                {'Name': 'roc_auc', 'Regex': 'farm.eval -   roc_auc:(.*?\\d{10})'},\n",
    "                                {'Name': 'roc_auc_weighted', 'Regex': 'farm.eval -   roc_auc_weighted:(.*?\\d{10})'},\n",
    "                                {'Name': 'f1_macro', 'Regex': 'farm.eval -   f1_macro:(.*?\\d{10})'},\n",
    "                                {'Name': 'f1_micro', 'Regex': 'farm.eval -   f1_micro:(.*?\\d{10})'}\n",
    "                            ]\n",
    "\n",
    "tuner = HyperparameterTuner(estimator, \n",
    "                            objective_metric_name, \n",
    "                            hyperparameter_ranges,\n",
    "                            metric_definitions,\n",
    "                            objective_type='Maximize', \n",
    "                            max_jobs=20, \n",
    "                            max_parallel_jobs=2,\n",
    "                            early_stopping_type='Auto')"
   ]
  },
  {
   "cell_type": "code",
   "execution_count": null,
   "id": "929843f9",
   "metadata": {},
   "outputs": [
    {
     "name": "stdout",
     "output_type": "stream",
     "text": [
      "...................................................................................................................................................................................................................................................................................................................................................................................................................................................................................................................................................................................................................................................................................................................................................................................................................................................................................................................................................................................................................................................................................................................................................................................................................................................................................................................................................................................................................................................................................................................................................................................................................................................................................................................................................................................................................................................................................................................................................................................................................................................................................................................................................................................................................................................................................................................................................................................................................................................................................................................................................................................................................................................................................................................................................................................................................................................................................................................................................................................................................................................................................................................................................................................................................................................................................................................................................................................................................................................................................................................................................................................................................................................................................................................................................................................................................................................................................................................................................................................................................................................................................................................................................................................................................................................................................................................................................................................................................................................................................................................................................................................................................................................................................................................................................................................................................................................................................................................."
     ]
    }
   ],
   "source": [
    "tuner.fit({'train': train_config, 'val': val_config, 'test': test_config}, \n",
    "          job_name=tuning_job_name, include_cls_metadata=False)\n",
    "tuner.wait()"
   ]
  },
  {
   "cell_type": "code",
   "execution_count": 47,
   "id": "6b87bd15",
   "metadata": {},
   "outputs": [
    {
     "name": "stdout",
     "output_type": "stream",
     "text": [
      "sagemaker role arn: arn:aws:iam::463045133778:role/torchserve-workshop-SageMakerAPIExecutionRole\n",
      "sagemaker bucket: sagemaker-us-east-1-463045133778\n",
      "sagemaker session region: us-east-1\n"
     ]
    }
   ],
   "source": [
    "import sagemaker, uuid\n",
    "\n",
    "sess = sagemaker.Session()\n",
    "# sagemaker session bucket -> used for uploading data, models and logs\n",
    "# sagemaker will automatically create this bucket if it not exists\n",
    "sagemaker_session_bucket=None\n",
    "if sagemaker_session_bucket is None and sess is not None:\n",
    "    # set to default bucket if a bucket name is not given\n",
    "    sagemaker_session_bucket = sess.default_bucket()\n",
    "\n",
    "role = sagemaker.get_execution_role()\n",
    "sess = sagemaker.Session(default_bucket=sagemaker_session_bucket)\n",
    "\n",
    "print(f\"sagemaker role arn: {role}\")\n",
    "print(f\"sagemaker bucket: {sess.default_bucket()}\")\n",
    "print(f\"sagemaker session region: {sess.boto_region_name}\")"
   ]
  },
  {
   "cell_type": "markdown",
   "id": "f43c8175",
   "metadata": {},
   "source": [
    "### Checkpointing"
   ]
  },
  {
   "cell_type": "code",
   "execution_count": 203,
   "id": "eb69a57e",
   "metadata": {},
   "outputs": [
    {
     "name": "stdout",
     "output_type": "stream",
     "text": [
      "Checkpointing path: s3://sagemaker-eu-west-2-468574038824/checkpoint-0c70892a\n"
     ]
    }
   ],
   "source": [
    "bucket = sagemaker_session_bucket\n",
    "checkpoint_suffix = str(uuid.uuid4())[:8]\n",
    "checkpoint_s3_path = 's3://{}/checkpoint-{}'.format(bucket, checkpoint_suffix)\n",
    "print(f'Checkpointing path: {checkpoint_s3_path}')"
   ]
  },
  {
   "cell_type": "markdown",
   "id": "962cf08e",
   "metadata": {},
   "source": [
    "### Upload data to s3\n",
    "We use the ```sagemaker.Session.upload_data``` function to upload our datasets to an S3 location. The return value inputs identifies the location -- we will use this later when we start the training job."
   ]
  },
  {
   "cell_type": "code",
   "execution_count": 204,
   "id": "576244ff",
   "metadata": {},
   "outputs": [],
   "source": [
    "task_name = tasks[selected_task]['task_name']\n",
    "prefix = f'sagemaker/clinical-prediction-{selected_task}'"
   ]
  },
  {
   "cell_type": "code",
   "execution_count": 205,
   "id": "f6889033",
   "metadata": {},
   "outputs": [
    {
     "name": "stdout",
     "output_type": "stream",
     "text": [
      "s3://sagemaker-eu-west-2-468574038824/sagemaker/clinical-prediction-diagnoses-plus-icd-hierarchy/train/DIA_PLUS_adm_train.csv\n",
      "s3://sagemaker-eu-west-2-468574038824/sagemaker/clinical-prediction-diagnoses-plus-icd-hierarchy/val/DIA_PLUS_adm_val.csv\n",
      "s3://sagemaker-eu-west-2-468574038824/sagemaker/clinical-prediction-diagnoses-plus-icd-hierarchy/test/DIA_PLUS_adm_test.csv\n"
     ]
    }
   ],
   "source": [
    "for x in ['train','val','test']:\n",
    "    path = [x for x in Path(DIR_TO_SAVE_DATA).glob(f'{task_name}*{x}.csv')][-1]\n",
    "    print(sess.upload_data(str(path), bucket, prefix + f'/{x}'))"
   ]
  },
  {
   "cell_type": "code",
   "execution_count": 206,
   "id": "004dffa8",
   "metadata": {},
   "outputs": [],
   "source": [
    "for x in Path(DIR_TO_SAVE_DATA).glob(f'*.txt'): \n",
    "    sess.upload_data(str(x), bucket, prefix + f'/train')"
   ]
  },
  {
   "cell_type": "code",
   "execution_count": 207,
   "id": "7138a491",
   "metadata": {},
   "outputs": [],
   "source": [
    "train_config = sagemaker.inputs.TrainingInput(f's3://{bucket}/{prefix}/train/', content_type='text/csv')\n",
    "val_config = sagemaker.inputs.TrainingInput(f's3://{bucket}/{prefix}/val/', content_type='text/csv')\n",
    "test_config = sagemaker.inputs.TrainingInput(f's3://{bucket}/{prefix}/test/', content_type='text/csv')"
   ]
  },
  {
   "cell_type": "markdown",
   "id": "5e48581f",
   "metadata": {},
   "source": [
    "### Managed Spot Training"
   ]
  },
  {
   "cell_type": "code",
   "execution_count": 208,
   "id": "24a5233c",
   "metadata": {},
   "outputs": [],
   "source": [
    "use_spot_instances = False\n",
    "max_run = 86400\n",
    "max_wait = 3600 if use_spot_instances else 1"
   ]
  },
  {
   "cell_type": "code",
   "execution_count": 209,
   "id": "d80c4526",
   "metadata": {},
   "outputs": [
    {
     "name": "stdout",
     "output_type": "stream",
     "text": [
      "Instance type = ml.p3.2xlarge\n"
     ]
    }
   ],
   "source": [
    "import os, subprocess\n",
    "\n",
    "# instance_type = 'local'\n",
    "instance_type = 'ml.p3.2xlarge'\n",
    "instance_count = 1\n",
    "\n",
    "if instance_type is 'local' and subprocess.call('nvidia-smi') == 0:\n",
    "    ## Set type to GPU if one is present\n",
    "    instance_type = 'local_gpu'\n",
    "    \n",
    "print(\"Instance type = \" + instance_type)"
   ]
  },
  {
   "cell_type": "code",
   "execution_count": 210,
   "id": "9506016b",
   "metadata": {},
   "outputs": [],
   "source": [
    "hyperparameters = {\n",
    "    'task_config': tasks[selected_task]['config_file'],\n",
    "    'model_name_or_path': \"distilbert-base-uncased\",\n",
    "    'cache_dir': \"cache_dir\",\n",
    "    'epochs': 200,\n",
    "    'batch_size': 5,\n",
    "}"
   ]
  },
  {
   "cell_type": "code",
   "execution_count": 40,
   "id": "b37de2a1",
   "metadata": {},
   "outputs": [],
   "source": [
    "from sagemaker.pytorch import PyTorch\n",
    "\n",
    "estimator = PyTorch(\n",
    "    entry_point='doc_classification.py',\n",
    "    source_dir='./experiments',\n",
    "    role=role,\n",
    "    instance_type=instance_type,\n",
    "    instance_count=instance_count,\n",
    "    base_job_name=f'clinical-prediction-{selected_task}',\n",
    "#     checkpoint_s3_uri=checkpoint_s3_uri,\n",
    "#     use_spot_instances=use_spot_instances,\n",
    "#     max_wait=max_run, # This should be equal to or greater than max_run in seconds'\n",
    "#     max_run=max_wait, # expected max run in seconds\n",
    "    framework_version='1.8.0',\n",
    "    py_version='py36',\n",
    "    hyperparameters=hyperparameters)"
   ]
  },
  {
   "cell_type": "code",
   "execution_count": 41,
   "id": "e0025259",
   "metadata": {},
   "outputs": [],
   "source": [
    "estimator.fit({'train': train_config, 'val': val_config, 'test': test_config}, wait=False)"
   ]
  },
  {
   "cell_type": "code",
   "execution_count": null,
   "id": "d543306f",
   "metadata": {},
   "outputs": [],
   "source": []
  },
  {
   "cell_type": "code",
   "execution_count": null,
   "id": "6cc4aef3",
   "metadata": {},
   "outputs": [],
   "source": []
  }
 ],
 "metadata": {
  "kernelspec": {
   "display_name": "conda_python3",
   "language": "python",
   "name": "conda_python3"
  },
  "language_info": {
   "codemirror_mode": {
    "name": "ipython",
    "version": 3
   },
   "file_extension": ".py",
   "mimetype": "text/x-python",
   "name": "python",
   "nbconvert_exporter": "python",
   "pygments_lexer": "ipython3",
   "version": "3.6.13"
  }
 },
 "nbformat": 4,
 "nbformat_minor": 5
}
